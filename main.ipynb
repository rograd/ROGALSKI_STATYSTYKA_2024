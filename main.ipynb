{
 "cells": [
  {
   "cell_type": "code",
   "execution_count": 98,
   "metadata": {},
   "outputs": [],
   "source": [
    "from sklearn.datasets import load_iris\n",
    "from sklearn.model_selection import train_test_split\n",
    "from sklearn.metrics import accuracy_score\n",
    "import math\n",
    "import pandas as pd\n",
    "import numpy as np"
   ]
  },
  {
   "cell_type": "code",
   "execution_count": 99,
   "metadata": {},
   "outputs": [],
   "source": [
    "SHROOMS_DATASET_PATH = \"datasets/mushrooms.csv\"\n",
    "TEST_SIZE = 0.3\n",
    "EPSILON = 1e-12\n",
    "RANDOM_SEED = 15"
   ]
  },
  {
   "cell_type": "markdown",
   "metadata": {},
   "source": [
    "## Prepare data\n",
    "\n",
    "Rename columns for easier access."
   ]
  },
  {
   "cell_type": "code",
   "execution_count": 100,
   "metadata": {},
   "outputs": [],
   "source": [
    "iris = load_iris(as_frame=True)\n",
    "X = iris.data.rename(\n",
    "    columns={\n",
    "        \"sepal length (cm)\": \"sl\",\n",
    "        \"sepal width (cm)\": \"sw\",\n",
    "        \"petal length (cm)\": \"pl\",\n",
    "        \"petal width (cm)\": \"pw\",\n",
    "    }\n",
    ")\n",
    "y = iris.target"
   ]
  },
  {
   "cell_type": "markdown",
   "metadata": {},
   "source": [
    "Divide into train and test datasets."
   ]
  },
  {
   "cell_type": "code",
   "execution_count": 101,
   "metadata": {},
   "outputs": [],
   "source": [
    "X_train, X_test, y_train, y_test = train_test_split(X, y, test_size=TEST_SIZE, random_state=RANDOM_SEED)"
   ]
  },
  {
   "cell_type": "markdown",
   "metadata": {},
   "source": [
    "Check for missing values."
   ]
  },
  {
   "cell_type": "code",
   "execution_count": 102,
   "metadata": {},
   "outputs": [
    {
     "data": {
      "text/plain": [
       "sepal length (cm)    0\n",
       "sepal width (cm)     0\n",
       "petal length (cm)    0\n",
       "petal width (cm)     0\n",
       "target               0\n",
       "dtype: int64"
      ]
     },
     "execution_count": 102,
     "metadata": {},
     "output_type": "execute_result"
    }
   ],
   "source": [
    "iris.frame.isna().sum()"
   ]
  },
  {
   "cell_type": "markdown",
   "metadata": {},
   "source": [
    "## Gaussian Naive Bayes Classifier"
   ]
  },
  {
   "cell_type": "markdown",
   "metadata": {},
   "source": [
    "Define an enum representing possible iris types. Values correspond to target labels inside `y`."
   ]
  },
  {
   "cell_type": "code",
   "execution_count": 103,
   "metadata": {},
   "outputs": [],
   "source": [
    "from enum import Enum"
   ]
  },
  {
   "cell_type": "code",
   "execution_count": 104,
   "metadata": {},
   "outputs": [],
   "source": [
    "class IrisType(Enum):\n",
    "    SETOSA = 0\n",
    "    VERSICOLOR = 1\n",
    "    VIRGINICA = 2"
   ]
  },
  {
   "cell_type": "markdown",
   "metadata": {},
   "source": [
    "Define a function for createing parametrized gaussian distribution function."
   ]
  },
  {
   "cell_type": "code",
   "execution_count": 105,
   "metadata": {},
   "outputs": [],
   "source": [
    "def create_gaussian_distrib_func(mi, sigma):\n",
    "    def func(x):\n",
    "        return 1 / (sigma * math.sqrt(2 * math.pi)) * math.exp(-0.5 * ((x - mi) / sigma) ** 2)\n",
    "\n",
    "    return func"
   ]
  },
  {
   "cell_type": "markdown",
   "metadata": {},
   "source": [
    "Create the classifier class."
   ]
  },
  {
   "cell_type": "code",
   "execution_count": 106,
   "metadata": {},
   "outputs": [],
   "source": [
    "class GaussianNaiveBayesClassifier:\n",
    "    def __init__(self):\n",
    "        # define species to be classified\n",
    "        self.species = [\n",
    "            IrisType.SETOSA.value,\n",
    "            IrisType.VERSICOLOR.value,\n",
    "            IrisType.VIRGINICA.value,\n",
    "        ]\n",
    "        self.species_funcs = {}\n",
    "\n",
    "    def fit(self, X_train, y_train):\n",
    "        for species in self.species:\n",
    "            # get dataframe for desired species\n",
    "            df_species = X_train[y_train == species]\n",
    "\n",
    "            # calculate mean and std for each column\n",
    "            mean = df_species.mean()\n",
    "            std = df_species.std()\n",
    "\n",
    "            # store functions for each column\n",
    "            self.species_funcs[species] = {\n",
    "                label: create_gaussian_distrib_func(mean[label], std[label])\n",
    "                for label in [\"sl\", \"sw\", \"pl\", \"pw\"]\n",
    "            }\n",
    "\n",
    "            # store base probability\n",
    "            self.species_funcs[species][\"prob\"] = len(df_species) / len(X_train)\n",
    "\n",
    "    def predict(self, X_test):\n",
    "        res = []\n",
    "\n",
    "        for index, row in X_test.iterrows():\n",
    "            sl, sw, pl, pw = row\n",
    "\n",
    "            # get score for each species\n",
    "            score = self.predict_proba(sl, sw, pl, pw)\n",
    "\n",
    "            # get type with highest score\n",
    "            iris_type = max(score, key=score.get)\n",
    "\n",
    "            # build result\n",
    "            res.append(iris_type)\n",
    "\n",
    "        return res\n",
    "\n",
    "    def predict_proba(self, sl, sw, pl, pw):\n",
    "        score = {}\n",
    "\n",
    "        # calculate score for each species\n",
    "        for specie in self.species:\n",
    "            self.species_funcs[specie]\n",
    "            score[specie] = math.log(\n",
    "                EPSILON # incorporate epsilon to avoid log(0)\n",
    "                + self.species_funcs[specie][\"prob\"]\n",
    "                * self.species_funcs[specie][\"sl\"](sl)\n",
    "                * self.species_funcs[specie][\"sw\"](sw)\n",
    "                * self.species_funcs[specie][\"pl\"](pl)\n",
    "                * self.species_funcs[specie][\"pw\"](pw)\n",
    "            )\n",
    "        \n",
    "        return score"
   ]
  },
  {
   "cell_type": "markdown",
   "metadata": {},
   "source": [
    "Feed classifier with training data."
   ]
  },
  {
   "cell_type": "code",
   "execution_count": 107,
   "metadata": {},
   "outputs": [],
   "source": [
    "classifier = GaussianNaiveBayesClassifier()\n",
    "classifier.fit(X_train, y_train)"
   ]
  },
  {
   "cell_type": "markdown",
   "metadata": {},
   "source": [
    "Check accuracy against `y_test`."
   ]
  },
  {
   "cell_type": "code",
   "execution_count": 108,
   "metadata": {},
   "outputs": [
    {
     "name": "stdout",
     "output_type": "stream",
     "text": [
      "1.0\n"
     ]
    }
   ],
   "source": [
    "y_pred = classifier.predict(X_test)\n",
    "print(accuracy_score(y_test, y_pred))"
   ]
  },
  {
   "cell_type": "markdown",
   "metadata": {},
   "source": [
    "Optionally validate whether the sklearn implementation gives the same result."
   ]
  },
  {
   "cell_type": "code",
   "execution_count": 109,
   "metadata": {},
   "outputs": [],
   "source": [
    "from sklearn.naive_bayes import GaussianNB"
   ]
  },
  {
   "cell_type": "code",
   "execution_count": 110,
   "metadata": {},
   "outputs": [
    {
     "name": "stdout",
     "output_type": "stream",
     "text": [
      "1.0\n"
     ]
    }
   ],
   "source": [
    "gnb = GaussianNB()\n",
    "y_pred = gnb.fit(X_train, y_train).predict(X_test)\n",
    "print(accuracy_score(y_test, y_pred))"
   ]
  },
  {
   "cell_type": "markdown",
   "metadata": {},
   "source": [
    "# Prepare data"
   ]
  },
  {
   "cell_type": "markdown",
   "metadata": {},
   "source": [
    "Read the mushrooms dataset from the CSV file and separate X and y."
   ]
  },
  {
   "cell_type": "code",
   "execution_count": 111,
   "metadata": {},
   "outputs": [
    {
     "name": "stderr",
     "output_type": "stream",
     "text": [
      "C:\\Users\\Radek\\AppData\\Local\\Temp\\ipykernel_3672\\1087841185.py:2: FutureWarning: A value is trying to be set on a copy of a DataFrame or Series through chained assignment using an inplace method.\n",
      "The behavior will change in pandas 3.0. This inplace method will never work because the intermediate object on which we are setting values always behaves as a copy.\n",
      "\n",
      "For example, when doing 'df[col].method(value, inplace=True)', try using 'df.method({col: value}, inplace=True)' or df[col] = df[col].method(value) instead, to perform the operation inplace on the original object.\n",
      "\n",
      "\n",
      "  df_shrooms['stalk-root'].replace('?', np.nan, inplace=True)\n"
     ]
    }
   ],
   "source": [
    "df_shrooms = pd.read_csv(SHROOMS_DATASET_PATH)\n",
    "df_shrooms['stalk-root'].replace('?', np.nan, inplace=True)\n",
    "target_colunm = \"class\"\n",
    "\n",
    "X = df_shrooms.drop(columns=[target_colunm])\n",
    "y = df_shrooms[target_colunm]"
   ]
  },
  {
   "cell_type": "markdown",
   "metadata": {},
   "source": [
    "Divide into train and test datasets."
   ]
  },
  {
   "cell_type": "code",
   "execution_count": 112,
   "metadata": {},
   "outputs": [],
   "source": [
    "X_train, X_test, y_train, y_test = train_test_split(X, y, test_size=TEST_SIZE, random_state=RANDOM_SEED)"
   ]
  },
  {
   "cell_type": "markdown",
   "metadata": {},
   "source": [
    "Check for missing values."
   ]
  },
  {
   "cell_type": "code",
   "execution_count": 113,
   "metadata": {},
   "outputs": [
    {
     "data": {
      "text/plain": [
       "class                          0\n",
       "cap-shape                      0\n",
       "cap-surface                    0\n",
       "cap-color                      0\n",
       "bruises                        0\n",
       "odor                           0\n",
       "gill-attachment                0\n",
       "gill-spacing                   0\n",
       "gill-size                      0\n",
       "gill-color                     0\n",
       "stalk-shape                    0\n",
       "stalk-root                  2480\n",
       "stalk-surface-above-ring       0\n",
       "stalk-surface-below-ring       0\n",
       "stalk-color-above-ring         0\n",
       "stalk-color-below-ring         0\n",
       "veil-type                      0\n",
       "veil-color                     0\n",
       "ring-number                    0\n",
       "ring-type                      0\n",
       "spore-print-color              0\n",
       "population                     0\n",
       "habitat                        0\n",
       "dtype: int64"
      ]
     },
     "execution_count": 113,
     "metadata": {},
     "output_type": "execute_result"
    }
   ],
   "source": [
    "df_shrooms.isna().sum()"
   ]
  },
  {
   "cell_type": "markdown",
   "metadata": {},
   "source": [
    "## Multinominal Naive Bayes Classifier"
   ]
  },
  {
   "cell_type": "markdown",
   "metadata": {},
   "source": [
    "Define an enum representing possible mushroom types. Values correspond to target labels inside `y`."
   ]
  },
  {
   "cell_type": "code",
   "execution_count": 114,
   "metadata": {},
   "outputs": [],
   "source": [
    "class ShroomType(Enum):\n",
    "    POISONOUS = \"p\"\n",
    "    EDIBLE = \"e\""
   ]
  },
  {
   "cell_type": "markdown",
   "metadata": {},
   "source": [
    "Define a constant to ensure that there will be no zero probability."
   ]
  },
  {
   "cell_type": "code",
   "execution_count": 115,
   "metadata": {},
   "outputs": [],
   "source": [
    "EMPTY_VALUE_CONSTANT = 1"
   ]
  },
  {
   "cell_type": "markdown",
   "metadata": {},
   "source": [
    "Based on the analysis inside `data_analysis.ipynb`, let's use the following features to distinguish mushrooms:\n",
    "\n",
    "`cap-shape`, `cap-surface`, `cap-color`, `ring-number`, `habitat`, `odor`, `gill-color`, `cap-color`, `population`"
   ]
  },
  {
   "cell_type": "code",
   "execution_count": 116,
   "metadata": {},
   "outputs": [],
   "source": [
    "class MulitnomialNaiveBayesClassifier:\n",
    "    def __init__(self, X):\n",
    "        self.X = X\n",
    "        self.properties = [\n",
    "            \"cap-shape\",\n",
    "            \"cap-surface\",\n",
    "            \"cap-color\",\n",
    "            \"ring-number\",\n",
    "            \"habitat\",\n",
    "            \"odor\",\n",
    "            \"gill-color\",\n",
    "            \"cap-color\",\n",
    "            \"population\",\n",
    "        ]\n",
    "\n",
    "    def fit(self, X_train, y_train):\n",
    "        # sparate dataframes for each type\n",
    "        df_poisonous = X_train[y_train == ShroomType.POISONOUS.value]\n",
    "        df_edible = X_train[y_train == ShroomType.EDIBLE.value]\n",
    "\n",
    "        def add_missing(col, value_counts):\n",
    "            for value in self.X[col].unique():\n",
    "                if value not in value_counts:\n",
    "                    value_counts[value] = 0\n",
    "\n",
    "            return value_counts\n",
    "\n",
    "        self.poisonous_dict = {\n",
    "            col: (\n",
    "                add_missing(col, df_poisonous[col].value_counts())\n",
    "                + EMPTY_VALUE_CONSTANT\n",
    "            )\n",
    "            / np.float64(len(df_poisonous))\n",
    "            for col in self.properties\n",
    "        }\n",
    "        self.edible_dict = {\n",
    "            col: (\n",
    "                add_missing(col, df_edible[col].value_counts()) + EMPTY_VALUE_CONSTANT\n",
    "            )\n",
    "            / np.float64(len(df_poisonous))\n",
    "            for col in self.properties\n",
    "        }\n",
    "\n",
    "        self.prob_poisonous = len(df_poisonous) / len(X_train)\n",
    "        self.prob_edible = len(df_edible) / len(X_train)\n",
    "\n",
    "    def predict(self, X_test):\n",
    "        res = []\n",
    "\n",
    "        for index, row in X_test[self.properties].iterrows():\n",
    "            prob_poisonous = self.prob_poisonous\n",
    "            prob_edible = self.prob_edible\n",
    "\n",
    "            for col, value in row.items():\n",
    "                prob_poisonous *= self.poisonous_dict[col][value]\n",
    "                prob_edible *= self.edible_dict[col][value]\n",
    "\n",
    "            if prob_poisonous > prob_edible:\n",
    "                res.append(ShroomType.POISONOUS.value)\n",
    "            else:\n",
    "                res.append(ShroomType.EDIBLE.value)\n",
    "\n",
    "        return res\n",
    "\n",
    "    def predict_proba(self):\n",
    "        pass"
   ]
  },
  {
   "cell_type": "markdown",
   "metadata": {},
   "source": [
    "Feed classifier with training data."
   ]
  },
  {
   "cell_type": "code",
   "execution_count": 117,
   "metadata": {},
   "outputs": [],
   "source": [
    "classifier = MulitnomialNaiveBayesClassifier(X)\n",
    "classifier.fit(X_train, y_train)"
   ]
  },
  {
   "cell_type": "markdown",
   "metadata": {},
   "source": [
    "Check accuracy against `y_test`."
   ]
  },
  {
   "cell_type": "code",
   "execution_count": 119,
   "metadata": {},
   "outputs": [
    {
     "name": "stdout",
     "output_type": "stream",
     "text": [
      "0.9766201804757998\n"
     ]
    }
   ],
   "source": [
    "y_pred = classifier.predict(X_test)\n",
    "print(accuracy_score(y_test, y_pred))"
   ]
  }
 ],
 "metadata": {
  "kernelspec": {
   "display_name": ".venv",
   "language": "python",
   "name": "python3"
  },
  "language_info": {
   "codemirror_mode": {
    "name": "ipython",
    "version": 3
   },
   "file_extension": ".py",
   "mimetype": "text/x-python",
   "name": "python",
   "nbconvert_exporter": "python",
   "pygments_lexer": "ipython3",
   "version": "3.10.4"
  }
 },
 "nbformat": 4,
 "nbformat_minor": 2
}
