{
 "cells": [
  {
   "cell_type": "code",
   "execution_count": 1187,
   "metadata": {},
   "outputs": [],
   "source": [
    "from sklearn.datasets import load_iris\n",
    "from sklearn.model_selection import train_test_split\n",
    "from sklearn.metrics import accuracy_score\n",
    "import math\n",
    "import pandas as pd"
   ]
  },
  {
   "cell_type": "code",
   "execution_count": 1188,
   "metadata": {},
   "outputs": [],
   "source": [
    "SHROOMS_DATASET_PATH = \"datasets/mushrooms.csv\"\n",
    "TEST_SIZE = 0.3\n",
    "EPSILON = 1e-12\n",
    "RANDOM_SEED = 15"
   ]
  },
  {
   "cell_type": "markdown",
   "metadata": {},
   "source": [
    "## Prepare data\n",
    "\n",
    "Rename columns for easier access."
   ]
  },
  {
   "cell_type": "code",
   "execution_count": 1189,
   "metadata": {},
   "outputs": [],
   "source": [
    "iris = load_iris(as_frame=True)\n",
    "X = iris.data.rename(\n",
    "    columns={\n",
    "        \"sepal length (cm)\": \"sl\",\n",
    "        \"sepal width (cm)\": \"sw\",\n",
    "        \"petal length (cm)\": \"pl\",\n",
    "        \"petal width (cm)\": \"pw\",\n",
    "    }\n",
    ")\n",
    "y = iris.target"
   ]
  },
  {
   "cell_type": "markdown",
   "metadata": {},
   "source": [
    "Divide into train and test datasets."
   ]
  },
  {
   "cell_type": "code",
   "execution_count": 1190,
   "metadata": {},
   "outputs": [],
   "source": [
    "X_train, X_test, y_train, y_test = train_test_split(X, y, test_size=TEST_SIZE, random_state=RANDOM_SEED)"
   ]
  },
  {
   "cell_type": "markdown",
   "metadata": {},
   "source": [
    "Check for missing values."
   ]
  },
  {
   "cell_type": "code",
   "execution_count": 1191,
   "metadata": {},
   "outputs": [
    {
     "data": {
      "text/plain": [
       "sepal length (cm)    0\n",
       "sepal width (cm)     0\n",
       "petal length (cm)    0\n",
       "petal width (cm)     0\n",
       "target               0\n",
       "dtype: int64"
      ]
     },
     "execution_count": 1191,
     "metadata": {},
     "output_type": "execute_result"
    }
   ],
   "source": [
    "iris.frame.isna().sum()"
   ]
  },
  {
   "cell_type": "markdown",
   "metadata": {},
   "source": [
    "## Gaussian Naive Bayes Classifier"
   ]
  },
  {
   "cell_type": "markdown",
   "metadata": {},
   "source": [
    "Define an enum representing possible iris types. Values correspond to target labels inside `y`."
   ]
  },
  {
   "cell_type": "code",
   "execution_count": 1192,
   "metadata": {},
   "outputs": [],
   "source": [
    "from enum import Enum"
   ]
  },
  {
   "cell_type": "code",
   "execution_count": 1193,
   "metadata": {},
   "outputs": [],
   "source": [
    "class IrisType(Enum):\n",
    "    SETOSA = 0\n",
    "    VERSICOLOR = 1\n",
    "    VIRGINICA = 2"
   ]
  },
  {
   "cell_type": "markdown",
   "metadata": {},
   "source": [
    "Define a function for createing parametrized gaussian distribution function."
   ]
  },
  {
   "cell_type": "code",
   "execution_count": 1194,
   "metadata": {},
   "outputs": [],
   "source": [
    "def create_gaussian_distrib_func(mi, sigma):\n",
    "    def func(x):\n",
    "        return 1 / (sigma * math.sqrt(2 * math.pi)) * math.exp(-0.5 * ((x - mi) / sigma) ** 2)\n",
    "\n",
    "    return func"
   ]
  },
  {
   "cell_type": "markdown",
   "metadata": {},
   "source": [
    "Create the classifier class."
   ]
  },
  {
   "cell_type": "code",
   "execution_count": 1195,
   "metadata": {},
   "outputs": [],
   "source": [
    "class GaussianNaiveBayesClassifier:\n",
    "    def __init__(self):\n",
    "        # define species to be classified\n",
    "        self.categories = [\n",
    "            IrisType.SETOSA.value,\n",
    "            IrisType.VERSICOLOR.value,\n",
    "            IrisType.VIRGINICA.value,\n",
    "        ]\n",
    "        self.category_data = {}\n",
    "\n",
    "    def fit(self, X_train, y_train):\n",
    "        for category in self.categories:\n",
    "            # get dataframe for desired species\n",
    "            df_category = X_train[y_train == category]\n",
    "\n",
    "            # calculate mean and std for each feature\n",
    "            mean = df_category.mean()\n",
    "            std = df_category.std()\n",
    "\n",
    "            # store functions for each feature\n",
    "            self.category_data[category] = {\n",
    "                feature: create_gaussian_distrib_func(mean[feature], std[feature])\n",
    "                for feature in X_train.columns\n",
    "            }\n",
    "\n",
    "            # store base probability\n",
    "            self.category_data[category][\"prob\"] = len(df_category) / len(X_train)\n",
    "\n",
    "    def predict(self, X_test):\n",
    "        res = []\n",
    "\n",
    "        for index, row in X_test.iterrows():\n",
    "            # get score for each species\n",
    "            score = self.predict_proba(row)\n",
    "\n",
    "            # get type with highest score\n",
    "            category = max(score, key=score.get)\n",
    "\n",
    "            # build result\n",
    "            res.append(category)\n",
    "\n",
    "        return res\n",
    "\n",
    "    def predict_proba(self, row):\n",
    "        score = {}\n",
    "\n",
    "        # calculate score for each species\n",
    "        for category in self.categories:\n",
    "            score[category] = math.log(EPSILON + self.category_data[category][\"prob\"])\n",
    "\n",
    "            for feature, value in row.items():\n",
    "                score[category] += math.log(\n",
    "                    EPSILON + self.category_data[category][feature](value)\n",
    "                )\n",
    "\n",
    "        return score"
   ]
  },
  {
   "cell_type": "markdown",
   "metadata": {},
   "source": [
    "Feed classifier with training data."
   ]
  },
  {
   "cell_type": "code",
   "execution_count": 1196,
   "metadata": {},
   "outputs": [],
   "source": [
    "classifier = GaussianNaiveBayesClassifier()\n",
    "classifier.fit(X_train, y_train)"
   ]
  },
  {
   "cell_type": "markdown",
   "metadata": {},
   "source": [
    "Check accuracy against `y_test`."
   ]
  },
  {
   "cell_type": "code",
   "execution_count": 1197,
   "metadata": {},
   "outputs": [
    {
     "name": "stdout",
     "output_type": "stream",
     "text": [
      "1.0\n"
     ]
    }
   ],
   "source": [
    "y_pred = classifier.predict(X_test)\n",
    "print(accuracy_score(y_test, y_pred))"
   ]
  },
  {
   "cell_type": "markdown",
   "metadata": {},
   "source": [
    "Validate whether the sklearn implementation gives the same result."
   ]
  },
  {
   "cell_type": "code",
   "execution_count": 1198,
   "metadata": {},
   "outputs": [],
   "source": [
    "from sklearn.naive_bayes import GaussianNB"
   ]
  },
  {
   "cell_type": "code",
   "execution_count": 1199,
   "metadata": {},
   "outputs": [
    {
     "name": "stdout",
     "output_type": "stream",
     "text": [
      "1.0\n"
     ]
    }
   ],
   "source": [
    "gnb = GaussianNB()\n",
    "y_pred = gnb.fit(X_train, y_train).predict(X_test)\n",
    "print(accuracy_score(y_test, y_pred))"
   ]
  },
  {
   "cell_type": "markdown",
   "metadata": {},
   "source": [
    "**Conclusion**: Matching accuracy is great!"
   ]
  },
  {
   "cell_type": "markdown",
   "metadata": {},
   "source": [
    "# Prepare data"
   ]
  },
  {
   "cell_type": "markdown",
   "metadata": {},
   "source": [
    "Read the mushrooms dataset from the CSV file and separate X and y."
   ]
  },
  {
   "cell_type": "code",
   "execution_count": 1200,
   "metadata": {},
   "outputs": [],
   "source": [
    "df_shrooms = pd.read_csv(SHROOMS_DATASET_PATH)"
   ]
  },
  {
   "cell_type": "code",
   "execution_count": 1201,
   "metadata": {},
   "outputs": [
    {
     "data": {
      "text/plain": [
       "stalk-root\n",
       "b    3776\n",
       "?    2480\n",
       "e    1120\n",
       "c     556\n",
       "r     192\n",
       "Name: count, dtype: int64"
      ]
     },
     "execution_count": 1201,
     "metadata": {},
     "output_type": "execute_result"
    }
   ],
   "source": [
    "df_shrooms['stalk-root'].value_counts()"
   ]
  },
  {
   "cell_type": "markdown",
   "metadata": {},
   "source": [
    "Replace missing values."
   ]
  },
  {
   "cell_type": "code",
   "execution_count": 1202,
   "metadata": {},
   "outputs": [
    {
     "name": "stderr",
     "output_type": "stream",
     "text": [
      "C:\\Users\\Radek\\AppData\\Local\\Temp\\ipykernel_7568\\3831535868.py:3: FutureWarning: A value is trying to be set on a copy of a DataFrame or Series through chained assignment using an inplace method.\n",
      "The behavior will change in pandas 3.0. This inplace method will never work because the intermediate object on which we are setting values always behaves as a copy.\n",
      "\n",
      "For example, when doing 'df[col].method(value, inplace=True)', try using 'df.method({col: value}, inplace=True)' or df[col] = df[col].method(value) instead, to perform the operation inplace on the original object.\n",
      "\n",
      "\n",
      "  df_shrooms['stalk-root'].fillna(df_shrooms['stalk-root'].mode()[0], inplace=True)\n"
     ]
    }
   ],
   "source": [
    "df_shrooms.replace('?', pd.NA, inplace=True)\n",
    "# df_shrooms.dropna(inplace=True)\n",
    "df_shrooms['stalk-root'].fillna(df_shrooms['stalk-root'].mode()[0], inplace=True)"
   ]
  },
  {
   "cell_type": "code",
   "execution_count": 1203,
   "metadata": {},
   "outputs": [
    {
     "data": {
      "text/plain": [
       "stalk-root\n",
       "b    6256\n",
       "e    1120\n",
       "c     556\n",
       "r     192\n",
       "Name: count, dtype: int64"
      ]
     },
     "execution_count": 1203,
     "metadata": {},
     "output_type": "execute_result"
    }
   ],
   "source": [
    "df_shrooms['stalk-root'].value_counts()"
   ]
  },
  {
   "cell_type": "markdown",
   "metadata": {},
   "source": [
    "Based on data analysis keep only valuable properties."
   ]
  },
  {
   "cell_type": "code",
   "execution_count": 1204,
   "metadata": {},
   "outputs": [],
   "source": [
    "PROPERTIES = [\"odor\", \"gill-color\", \"cap-color\", \"population\", \"cap-shape\", \"cap-surface\", \"ring-number\", \"habitat\", \"bruises\"]"
   ]
  },
  {
   "cell_type": "code",
   "execution_count": 1205,
   "metadata": {},
   "outputs": [],
   "source": [
    "TARGET_COLUMN = \"class\"\n",
    "\n",
    "X = df_shrooms.drop(columns=[TARGET_COLUMN])\n",
    "X = X[PROPERTIES]\n",
    "y = df_shrooms[TARGET_COLUMN]"
   ]
  },
  {
   "cell_type": "markdown",
   "metadata": {},
   "source": [
    "Divide into train and test datasets."
   ]
  },
  {
   "cell_type": "code",
   "execution_count": 1206,
   "metadata": {},
   "outputs": [],
   "source": [
    "X_train, X_test, y_train, y_test = train_test_split(X, y, test_size=TEST_SIZE, random_state=RANDOM_SEED)"
   ]
  },
  {
   "cell_type": "markdown",
   "metadata": {},
   "source": [
    "## Multinominal Naive Bayes Classifier"
   ]
  },
  {
   "cell_type": "markdown",
   "metadata": {},
   "source": [
    "Define an enum representing possible mushroom types. Values correspond to target labels inside `y`."
   ]
  },
  {
   "cell_type": "code",
   "execution_count": 1207,
   "metadata": {},
   "outputs": [],
   "source": [
    "class ShroomType(Enum):\n",
    "    POISONOUS = \"p\"\n",
    "    EDIBLE = \"e\""
   ]
  },
  {
   "cell_type": "code",
   "execution_count": 1208,
   "metadata": {},
   "outputs": [],
   "source": [
    "BLACK_BOX_CONSTANT = 1"
   ]
  },
  {
   "cell_type": "code",
   "execution_count": 1209,
   "metadata": {},
   "outputs": [],
   "source": [
    "class MulitnomialNaiveBayesClassifier:\n",
    "    def __init__(self, complete_features):\n",
    "        # define categories to be classified\n",
    "        self.categories = [ShroomType.POISONOUS.value, ShroomType.EDIBLE.value]\n",
    "        self.complete_features = complete_features\n",
    "\n",
    "    def fit(self, X_train, y_train):\n",
    "        self.category_data = {}\n",
    "\n",
    "        # calculate probabilities for each category\n",
    "        for category in self.categories:\n",
    "            df_category = X_train[y_train == category]\n",
    "\n",
    "            # store probability for each feature\n",
    "            # e.g. category_data['p']['cap-color']['n'] = 0.741\n",
    "            self.category_data[category] = {\n",
    "                # add missing features with zero probability\n",
    "                # add BLACK_BOX_CONSTANT to avoid zero probability\n",
    "                feature: (df_category[feature].value_counts().reindex(self.complete_features[feature], fill_value=0) + BLACK_BOX_CONSTANT) / (len(df_category) + df_category[feature].nunique() * BLACK_BOX_CONSTANT)\n",
    "                for feature in X_train.columns\n",
    "            }\n",
    "\n",
    "            # store base probability\n",
    "            self.category_data[category][\"prob\"] = len(df_category) / len(X_train)\n",
    "\n",
    "    def predict(self, X_test):\n",
    "        res = []\n",
    "\n",
    "        for index, row in X_test.iterrows():\n",
    "            # get score for each species\n",
    "            score = self.predict_proba(row)\n",
    "\n",
    "            # get type with highest score\n",
    "            category = max(score, key=score.get)\n",
    "\n",
    "            # build result\n",
    "            res.append(category)\n",
    "\n",
    "        return res\n",
    "\n",
    "    def predict_proba(self, row):\n",
    "        score = {}\n",
    "\n",
    "        # calculate score for each category\n",
    "        for category in self.categories:\n",
    "            score[category] = math.log(EPSILON + self.category_data[category][\"prob\"])\n",
    "\n",
    "            for feature, value in row.items():\n",
    "                score[category] += math.log(EPSILON + self.category_data[category][feature][value])\n",
    "\n",
    "        return score"
   ]
  },
  {
   "cell_type": "markdown",
   "metadata": {},
   "source": [
    "Feed classifier with training data."
   ]
  },
  {
   "cell_type": "code",
   "execution_count": 1210,
   "metadata": {},
   "outputs": [],
   "source": [
    "classifier = MulitnomialNaiveBayesClassifier({ feature: X[feature].unique() for feature in X })\n",
    "classifier.fit(X_train, y_train)"
   ]
  },
  {
   "cell_type": "markdown",
   "metadata": {},
   "source": [
    "Check accuracy against `y_test`."
   ]
  },
  {
   "cell_type": "code",
   "execution_count": 1211,
   "metadata": {},
   "outputs": [
    {
     "name": "stdout",
     "output_type": "stream",
     "text": [
      "0.9803117309269893\n"
     ]
    }
   ],
   "source": [
    "y_pred = classifier.predict(X_test)\n",
    "print(accuracy_score(y_test, y_pred))"
   ]
  },
  {
   "cell_type": "markdown",
   "metadata": {},
   "source": [
    "Validate whether the sklearn implementation gives the same result."
   ]
  },
  {
   "cell_type": "code",
   "execution_count": 1212,
   "metadata": {},
   "outputs": [
    {
     "name": "stdout",
     "output_type": "stream",
     "text": [
      "0.9803117309269893\n"
     ]
    }
   ],
   "source": [
    "from sklearn.preprocessing import LabelEncoder, OneHotEncoder\n",
    "from sklearn.naive_bayes import MultinomialNB\n",
    "\n",
    "# Encode labels\n",
    "le = LabelEncoder()\n",
    "y_train_encoded = le.fit_transform(y_train)\n",
    "\n",
    "# One-hot encode features\n",
    "oe = OneHotEncoder()\n",
    "X_train_encoded = oe.fit_transform(X_train)\n",
    "\n",
    "# Train MultinomialNB\n",
    "mnb = MultinomialNB()\n",
    "mnb.fit(X_train_encoded, y_train_encoded)\n",
    "\n",
    "# Predict and evaluate\n",
    "y_pred = mnb.predict(oe.transform(X_test))\n",
    "print(accuracy_score(le.transform(y_test), y_pred))\n"
   ]
  },
  {
   "cell_type": "markdown",
   "metadata": {},
   "source": [
    "**Conclusion**: Great news!"
   ]
  }
 ],
 "metadata": {
  "kernelspec": {
   "display_name": ".venv",
   "language": "python",
   "name": "python3"
  },
  "language_info": {
   "codemirror_mode": {
    "name": "ipython",
    "version": 3
   },
   "file_extension": ".py",
   "mimetype": "text/x-python",
   "name": "python",
   "nbconvert_exporter": "python",
   "pygments_lexer": "ipython3",
   "version": "3.10.4"
  }
 },
 "nbformat": 4,
 "nbformat_minor": 2
}
